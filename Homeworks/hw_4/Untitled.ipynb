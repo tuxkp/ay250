{
 "cells": [
  {
   "cell_type": "code",
   "execution_count": 10,
   "metadata": {
    "collapsed": true
   },
   "outputs": [],
   "source": [
    "darts = 10000"
   ]
  },
  {
   "cell_type": "code",
   "execution_count": 11,
   "metadata": {
    "collapsed": true
   },
   "outputs": [],
   "source": [
    "import ipyparallel\n",
    "from random import uniform\n",
    "from math import sqrt\n",
    "from time import time\n",
    "\n",
    "\n",
    "def approxPi(number_of_darts):\n",
    "    number_of_darts_in_circle = 0\n",
    "    for n in range(number_of_darts):\n",
    "        x,y = uniform(0,1), uniform(0,1)\n",
    "        if sqrt((x - 0.5)**2 + (y - 0.5)**2) <= 0.5:\n",
    "            number_of_darts_in_circle += 1\n",
    "    pi_approx = 4 * number_of_darts_in_circle / float(number_of_darts)\n",
    "    return pi_approx"
   ]
  },
  {
   "cell_type": "code",
   "execution_count": 16,
   "metadata": {
    "collapsed": false
   },
   "outputs": [
    {
     "name": "stdout",
     "output_type": "stream",
     "text": [
      "-----------Serial-----------\n",
      "('Pi Approximation:', 3.14396)\n",
      "('Number of Darts:', 100000)\n",
      "('Execution Time (s):', 0.10092496871948242)\n",
      "('Darts Thrown per Second:', 990835.0853984078)\n",
      "{1: 3.218650817871094e-05, 2: 0.000186920166015625, 3: 0.0014040470123291016, 4: 0.009752988815307617, 5: 0.09483885765075684, 6: 0.9311838150024414, 7: 9.651768922805786}\n"
     ]
    }
   ],
   "source": [
    "# Serial\n",
    "start_time = time()\n",
    "pi_approx = approxPi(darts)\n",
    "end_time = time()\n",
    "execution_time = end_time - start_time\n",
    "\n",
    "print (\"-----------Serial-----------\")\n",
    "print (\"Pi Approximation:\", pi_approx)\n",
    "print (\"Number of Darts:\", darts)\n",
    "print (\"Execution Time (s):\", execution_time)\n",
    "print (\"Darts Thrown per Second:\", darts/execution_time)\n",
    "\n",
    "\n",
    "# generate dictionary of results\n",
    "serialResults = {}\n",
    "for i in range(1,8):\n",
    "    darts = 10**i\n",
    "    start_time = time()\n",
    "    pi_approx = approxPi(darts)\n",
    "    end_time = time()\n",
    "    execution_time = end_time - start_time\n",
    "    serialResults[i] = execution_time\n",
    "\n",
    "print serialResults"
   ]
  },
  {
   "cell_type": "code",
   "execution_count": 7,
   "metadata": {
    "collapsed": false
   },
   "outputs": [
    {
     "name": "stdout",
     "output_type": "stream",
     "text": [
      "Pi Approximation: [3.13896, 3.13512, 3.14664, 3.13652, 3.14492]\n",
      "Number of Darts: 100000\n",
      "Execution Time (s): 0.1517038345336914\n",
      "Darts Thrown per Second: 659179.1190208269\n"
     ]
    }
   ],
   "source": [
    "%%python3\n",
    "#Multiprocessing\n",
    "darts = 100000\n",
    "from random import uniform\n",
    "from math import sqrt\n",
    "from time import time\n",
    "from multiprocessing import Pool\n",
    "\n",
    "def approxPi(number_of_darts):\n",
    "    number_of_darts_in_circle = 0\n",
    "    for n in range(number_of_darts):\n",
    "        x,y = uniform(0,1), uniform(0,1)\n",
    "        if sqrt((x - 0.5)**2 + (y - 0.5)**2) <= 0.5:\n",
    "            number_of_darts_in_circle += 1\n",
    "    pi_approx = 4 * number_of_darts_in_circle / float(number_of_darts)\n",
    "    return pi_approx\n",
    "\n",
    "with Pool(5) as p:\n",
    "    start_time = time()\n",
    "    pi_approx = p.map(approxPi,[darts,darts,darts,darts,darts])\n",
    "    end_time = time()\n",
    "    execution_time = end_time - start_time\n",
    "print (\"Pi Approximation:\", pi_approx)\n",
    "print (\"Number of Darts:\", darts)\n",
    "print (\"Execution Time (s):\", execution_time)\n",
    "print (\"Darts Thrown per Second:\", darts/execution_time)"
   ]
  },
  {
   "cell_type": "code",
   "execution_count": 8,
   "metadata": {
    "collapsed": false
   },
   "outputs": [
    {
     "name": "stdout",
     "output_type": "stream",
     "text": [
      "importing uniform from random on engine(s)\n",
      "importing sqrt from math on engine(s)\n",
      "importing time from time on engine(s)\n"
     ]
    }
   ],
   "source": [
    "#run in terminal:  ipcluster start -n 4\n",
    "\n",
    "clients = ipyparallel.Client()\n",
    "clients.ids\n",
    "dview = clients[:]\n",
    "with dview.sync_imports():\n",
    "    from random import uniform\n",
    "    from math import sqrt\n",
    "    from time import time"
   ]
  },
  {
   "cell_type": "code",
   "execution_count": 9,
   "metadata": {
    "collapsed": false
   },
   "outputs": [
    {
     "name": "stdout",
     "output_type": "stream",
     "text": [
      "[3.13612, 3.14512, 3.14484, 3.14572]\n"
     ]
    }
   ],
   "source": [
    "\n",
    "results = dview.map_sync(approxPi, [darts,darts,darts,darts])\n",
    "print (results)\n"
   ]
  }
 ],
 "metadata": {
  "kernelspec": {
   "display_name": "Python 2",
   "language": "python",
   "name": "python2"
  },
  "language_info": {
   "codemirror_mode": {
    "name": "ipython",
    "version": 2
   },
   "file_extension": ".py",
   "mimetype": "text/x-python",
   "name": "python",
   "nbconvert_exporter": "python",
   "pygments_lexer": "ipython2",
   "version": "2.7.12"
  }
 },
 "nbformat": 4,
 "nbformat_minor": 1
}
