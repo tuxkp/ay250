{
 "cells": [
  {
   "cell_type": "code",
   "execution_count": 9,
   "metadata": {
    "collapsed": true
   },
   "outputs": [],
   "source": [
    "darts = 100000"
   ]
  },
  {
   "cell_type": "code",
   "execution_count": 3,
   "metadata": {
    "collapsed": true
   },
   "outputs": [],
   "source": [
    "import ipyparallel\n",
    "from random import uniform\n",
    "from math import sqrt\n",
    "from time import time\n",
    "\n",
    "\n",
    "def approxPi(number_of_darts):\n",
    "    number_of_darts_in_circle = 0\n",
    "    for n in range(number_of_darts):\n",
    "        x,y = uniform(0,1), uniform(0,1)\n",
    "        if sqrt((x - 0.5)**2 + (y - 0.5)**2) <= 0.5:\n",
    "            number_of_darts_in_circle += 1\n",
    "    pi_approx = 4 * number_of_darts_in_circle / float(number_of_darts)\n",
    "    return pi_approx"
   ]
  },
  {
   "cell_type": "code",
   "execution_count": 14,
   "metadata": {
    "collapsed": false
   },
   "outputs": [
    {
     "name": "stdout",
     "output_type": "stream",
     "text": [
      "-----------Serial-----------\n",
      "Pi Approximation: 3.14608\n",
      "Number of Darts: 100000\n",
      "Execution Time (s): 0.101809024811\n",
      "Darts Thrown per Second: 982231.194001\n"
     ]
    }
   ],
   "source": [
    "# Serial\n",
    "start_time = time()\n",
    "pi_approx = approxPi(darts)\n",
    "end_time = time()\n",
    "execution_time = end_time - start_time\n",
    "\n",
    "print \"-----------Serial-----------\"\n",
    "print \"Pi Approximation:\", pi_approx\n",
    "print \"Number of Darts:\", darts\n",
    "print \"Execution Time (s):\", execution_time\n",
    "print \"Darts Thrown per Second:\", darts/execution_time"
   ]
  },
  {
   "cell_type": "code",
   "execution_count": 16,
   "metadata": {
    "collapsed": false
   },
   "outputs": [
    {
     "ename": "AttributeError",
     "evalue": "__exit__",
     "output_type": "error",
     "traceback": [
      "\u001b[0;31m---------------------------------------------------------------------------\u001b[0m",
      "\u001b[0;31mAttributeError\u001b[0m                            Traceback (most recent call last)",
      "\u001b[0;32m<ipython-input-16-ed1cf6b60e66>\u001b[0m in \u001b[0;36m<module>\u001b[0;34m()\u001b[0m\n\u001b[1;32m      1\u001b[0m \u001b[0;31m#Multiprocessing\u001b[0m\u001b[0;34m\u001b[0m\u001b[0;34m\u001b[0m\u001b[0m\n\u001b[1;32m      2\u001b[0m \u001b[0;32mfrom\u001b[0m \u001b[0mmultiprocessing\u001b[0m \u001b[0;32mimport\u001b[0m \u001b[0mPool\u001b[0m\u001b[0;34m\u001b[0m\u001b[0m\n\u001b[0;32m----> 3\u001b[0;31m \u001b[0;32mwith\u001b[0m \u001b[0mPool\u001b[0m\u001b[0;34m(\u001b[0m\u001b[0;36m5\u001b[0m\u001b[0;34m)\u001b[0m \u001b[0;32mas\u001b[0m \u001b[0mp\u001b[0m\u001b[0;34m:\u001b[0m\u001b[0;34m\u001b[0m\u001b[0m\n\u001b[0m\u001b[1;32m      4\u001b[0m     \u001b[0mstart_time\u001b[0m \u001b[0;34m=\u001b[0m \u001b[0mtime\u001b[0m\u001b[0;34m(\u001b[0m\u001b[0;34m)\u001b[0m\u001b[0;34m\u001b[0m\u001b[0m\n\u001b[1;32m      5\u001b[0m     \u001b[0mpi_approx\u001b[0m \u001b[0;34m=\u001b[0m \u001b[0mp\u001b[0m\u001b[0;34m.\u001b[0m\u001b[0mmap\u001b[0m\u001b[0;34m(\u001b[0m\u001b[0mapproxPi\u001b[0m\u001b[0;34m,\u001b[0m\u001b[0;34m[\u001b[0m\u001b[0mdarts\u001b[0m\u001b[0;34m,\u001b[0m\u001b[0mdarts\u001b[0m\u001b[0;34m,\u001b[0m\u001b[0mdarts\u001b[0m\u001b[0;34m,\u001b[0m\u001b[0mdarts\u001b[0m\u001b[0;34m,\u001b[0m\u001b[0mdarts\u001b[0m\u001b[0;34m]\u001b[0m\u001b[0;34m)\u001b[0m\u001b[0;34m\u001b[0m\u001b[0m\n",
      "\u001b[0;31mAttributeError\u001b[0m: __exit__"
     ]
    }
   ],
   "source": [
    "#Multiprocessing\n",
    "from multiprocessing import Pool\n",
    "with Pool(5) as p:\n",
    "    start_time = time()\n",
    "    pi_approx = p.map(approxPi,[darts,darts,darts,darts,darts])\n",
    "    end_time = time()\n",
    "    execution_time = end_time - start_time\n",
    "print (\"Pi Approximation:\", pi_approx)\n",
    "print (\"Number of Darts:\", darts)\n",
    "print (\"Execution Time (s):\", execution_time)\n",
    "print (\"Darts Thrown per Second:\", darts/execution_time)"
   ]
  },
  {
   "cell_type": "code",
   "execution_count": 4,
   "metadata": {
    "collapsed": false
   },
   "outputs": [
    {
     "name": "stdout",
     "output_type": "stream",
     "text": [
      "importing uniform from random on engine(s)\n",
      "importing sqrt from math on engine(s)\n",
      "importing time from time on engine(s)\n"
     ]
    }
   ],
   "source": [
    "clients = ipyparallel.Client()\n",
    "clients.ids\n",
    "dview = clients[:]\n",
    "with dview.sync_imports():\n",
    "    from random import uniform\n",
    "    from math import sqrt\n",
    "    from time import time"
   ]
  },
  {
   "cell_type": "code",
   "execution_count": 10,
   "metadata": {
    "collapsed": false
   },
   "outputs": [
    {
     "name": "stdout",
     "output_type": "stream",
     "text": [
      "[3.13192, 3.14464, 3.1414, 3.13692]\n"
     ]
    }
   ],
   "source": [
    "\n",
    "    \n",
    "results = dview.map_sync(approxPi, [darts,darts,darts,darts])\n",
    "print (results)\n"
   ]
  }
 ],
 "metadata": {
  "kernelspec": {
   "display_name": "Python 2",
   "language": "python",
   "name": "python2"
  },
  "language_info": {
   "codemirror_mode": {
    "name": "ipython",
    "version": 2
   },
   "file_extension": ".py",
   "mimetype": "text/x-python",
   "name": "python",
   "nbconvert_exporter": "python",
   "pygments_lexer": "ipython2",
   "version": "2.7.12"
  }
 },
 "nbformat": 4,
 "nbformat_minor": 1
}
